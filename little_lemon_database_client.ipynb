{
 "cells": [
  {
   "cell_type": "code",
   "execution_count": 1,
   "id": "c68c9e0e",
   "metadata": {},
   "outputs": [
    {
     "name": "stdout",
     "output_type": "stream",
     "text": [
      "Requirement already satisfied: mysql-connector-python in c:\\users\\lrath\\appdata\\local\\packages\\pythonsoftwarefoundation.python.3.11_qbz5n2kfra8p0\\localcache\\local-packages\\python311\\site-packages (8.0.33)\n",
      "Requirement already satisfied: protobuf<=3.20.3,>=3.11.0 in c:\\users\\lrath\\appdata\\local\\packages\\pythonsoftwarefoundation.python.3.11_qbz5n2kfra8p0\\localcache\\local-packages\\python311\\site-packages (from mysql-connector-python) (3.20.3)\n"
     ]
    }
   ],
   "source": [
    "!pip install mysql-connector-python\n",
    "\n",
    "#Prerequisite environment setup\n",
    "\n",
    "# Import MySQL Connector/Python \n",
    "import mysql.connector as connector\n"
   ]
  },
  {
   "cell_type": "code",
   "execution_count": null,
   "id": "2ea2cadd",
   "metadata": {},
   "outputs": [],
   "source": [
    "connection = connector.connect(user = \"root\", password = \"\", database=\"LittleLemonDB\")"
   ]
  },
  {
   "cell_type": "code",
   "execution_count": null,
   "id": "e4232e3e",
   "metadata": {},
   "outputs": [],
   "source": [
    "# Create a cursor object to execute queries\n",
    "cursor = cnx.cursor()\n",
    "\n",
    "# Execute the query to show the tables in the database\n",
    "cursor.execute(\"SHOW TABLES\")\n",
    "\n",
    "# Fetch all the results\n",
    "tables = cursor.fetchall()\n",
    "\n",
    "# Print the table names\n",
    "for table in tables:\n",
    "    print(table[0])\n",
    "\n",
    "# Close the cursor and connection\n",
    "cursor.close()\n",
    "cnx.close()"
   ]
  },
  {
   "cell_type": "code",
   "execution_count": null,
   "id": "fa11fc4b",
   "metadata": {},
   "outputs": [],
   "source": [
    "# Create a cursor object to execute queries\n",
    "cursor = cnx.cursor()\n",
    "\n",
    "# Execute the query to retrieve customer details for orders greater than $60\n",
    "query = \"\"\"\n",
    "    SELECT c.FullName, c.PhoneNumber, c.Email\n",
    "    FROM Customers c\n",
    "    JOIN Orders o ON c.CustomerID = o.CustomerID\n",
    "    WHERE o.TotalCost > 60\n",
    "\"\"\"\n",
    "\n",
    "# Execute the query\n",
    "cursor.execute(query)\n",
    "\n",
    "# Fetch all the results\n",
    "results = cursor.fetchall()\n",
    "\n",
    "# Print the customer details\n",
    "for result in results:\n",
    "    full_name, phone_number, email = result\n",
    "    print(f\"Full Name: {full_name}\")\n",
    "    print(f\"Phone Number: {phone_number}\")\n",
    "    print(f\"Email: {email}\")\n",
    "    print()\n",
    "\n",
    "# Close the cursor and connection\n",
    "cursor.close()\n",
    "cnx.close()"
   ]
  }
 ],
 "metadata": {
  "kernelspec": {
   "display_name": "Python 3 (ipykernel)",
   "language": "python",
   "name": "python3"
  },
  "language_info": {
   "codemirror_mode": {
    "name": "ipython",
    "version": 3
   },
   "file_extension": ".py",
   "mimetype": "text/x-python",
   "name": "python",
   "nbconvert_exporter": "python",
   "pygments_lexer": "ipython3",
   "version": "3.11.4"
  }
 },
 "nbformat": 4,
 "nbformat_minor": 5
}
